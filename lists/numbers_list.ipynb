{
 "cells": [
  {
   "cell_type": "markdown",
   "source": [
    "Minimum of List"
   ],
   "metadata": {}
  },
  {
   "cell_type": "code",
   "execution_count": null,
   "source": [
    "digits = [1, 2, 3, 5, 8]\n",
    "print(min(digits))"
   ],
   "outputs": [],
   "metadata": {}
  }
 ],
 "metadata": {
  "orig_nbformat": 4,
  "language_info": {
   "name": "python"
  }
 },
 "nbformat": 4,
 "nbformat_minor": 2
}